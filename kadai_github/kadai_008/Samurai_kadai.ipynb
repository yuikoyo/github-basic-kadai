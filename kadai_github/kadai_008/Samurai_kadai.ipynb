{
  "nbformat": 4,
  "nbformat_minor": 0,
  "metadata": {
    "colab": {
      "provenance": []
    },
    "kernelspec": {
      "name": "python3",
      "display_name": "Python 3"
    },
    "language_info": {
      "name": "python"
    }
  },
  "cells": [
    {
      "cell_type": "markdown",
      "source": [
        "Samurai Pythonを学ぼう　課題005"
      ],
      "metadata": {
        "id": "IGrChi4FfYep"
      }
    },
    {
      "cell_type": "code",
      "execution_count": null,
      "metadata": {
        "colab": {
          "base_uri": "https://localhost:8080/"
        },
        "id": "pcxWv4ewfQzV",
        "outputId": "a580cc36-f5b8-48e4-a776-e426c05392f9"
      },
      "outputs": [
        {
          "output_type": "stream",
          "name": "stdout",
          "text": [
            "75.0c㎡\n"
          ]
        }
      ],
      "source": [
        "#上辺:10cm\n",
        "#下辺:20cm\n",
        "#高さ:5cm\n",
        "\n",
        "#公式:台形の面積=(上辺✖️下辺)✖️高さ÷2\n",
        "\n",
        "a=10\n",
        "b=20\n",
        "c=5\n",
        "\n",
        "menseki=(a+b)*c/2\n",
        "print(str(menseki)+\"c㎡\")\n"
      ]
    },
    {
      "cell_type": "markdown",
      "source": [
        "Samurai Pythonを学ぼう　課題007"
      ],
      "metadata": {
        "id": "Ju561TgD0d3D"
      }
    },
    {
      "cell_type": "code",
      "source": [
        "#list array\n",
        "#ディクショナリ　dictionary\n",
        "\n",
        "array=[\"月曜日は晴れです\",\"火曜日は雨です\",\"水曜日は晴れです\",\"木曜日は晴れです\",\"金曜日は曇りです\",\"土曜日は曇りのち雨です\",\"日曜日は雷雨です\"]\n",
        "dictionary={\"mon\":\"晴れ\",\"tue\":\"雨\",\"wed\":\"晴れ\",\"thu\":\"晴れ\",\"fri\":\"曇り\",\"sat\":\"曇りのち雨\",\"sun\":\"雷雨\"}\n",
        "\n",
        "print(array[2])\n",
        "print(dictionary[\"mon\"])"
      ],
      "metadata": {
        "colab": {
          "base_uri": "https://localhost:8080/"
        },
        "id": "CEEd6XNX0qg5",
        "outputId": "168ff671-3220-4c06-fffc-dc21a03b1931"
      },
      "execution_count": null,
      "outputs": [
        {
          "output_type": "stream",
          "name": "stdout",
          "text": [
            "水曜日は晴れです\n",
            "晴れ\n"
          ]
        }
      ]
    },
    {
      "cell_type": "markdown",
      "source": [],
      "metadata": {
        "id": "kuHXsop-fXjC"
      }
    },
    {
      "cell_type": "markdown",
      "source": [
        "Samurai Pyhonを学ぼう　課題008"
      ],
      "metadata": {
        "id": "6CtrIedxVUVj"
      }
    },
    {
      "cell_type": "code",
      "source": [
        "#変数varが、3の倍数の場合は「Fizz」を出力\n",
        "#変数varが、5の倍数の場合は「Buzz」を出力\n",
        "#変数varが、3の倍数と5の倍数の両方に該当する場合は「FizzBuzz」を出力\n",
        "#上記のどの場合にも該当しない場合は、変数varの値を出力\n",
        "\n",
        "var=4\n",
        "if var %3==0 and var %5==0:\n",
        "  print(\"FizzBuzz\")\n",
        "elif var %3==0:\n",
        "  print(\"Buzz\")\n",
        "elif var %5==0:\n",
        "  print(\"Buzz\")\n",
        "else:\n",
        "  print(var)\n"
      ],
      "metadata": {
        "id": "Axs1BcewVdFD",
        "colab": {
          "base_uri": "https://localhost:8080/"
        },
        "outputId": "055a0956-256d-451c-8990-0b220100f3cf"
      },
      "execution_count": 25,
      "outputs": [
        {
          "output_type": "stream",
          "name": "stdout",
          "text": [
            "4\n"
          ]
        }
      ]
    }
  ]
}