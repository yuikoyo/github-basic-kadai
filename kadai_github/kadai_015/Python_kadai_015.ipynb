{
  "nbformat": 4,
  "nbformat_minor": 0,
  "metadata": {
    "colab": {
      "provenance": []
    },
    "kernelspec": {
      "name": "python3",
      "display_name": "Python 3"
    },
    "language_info": {
      "name": "python"
    }
  },
  "cells": [
    {
      "cell_type": "code",
      "execution_count": null,
      "metadata": {
        "colab": {
          "base_uri": "https://localhost:8080/"
        },
        "id": "QszhcvJz35Y6",
        "outputId": "1205abb0-38ae-4a8d-bdf0-a57f747cc5dc"
      },
      "outputs": [
        {
          "output_type": "stream",
          "name": "stdout",
          "text": [
            "名前: 鳴澤\n",
            "年齢: 48\n"
          ]
        }
      ],
      "source": [
        "#名前(name)と年齢(age)の属性を持つHumanクラスを作成してください。\n",
        "#nameとageを標準出力(print)するメソッド(printinfo)を追加してください。\n",
        "#Humanクラスのインスタンスは、変数に代入してプログラム内で使用してください。\n",
        "\n",
        "class Human:\n",
        "  def __init__(self,name,age):\n",
        "    self.name=name\n",
        "    self.age=age\n",
        "\n",
        "    #メソッドを定義\n",
        "  def set_name(self,name):\n",
        "    self.name=name\n",
        "  def set_age(self,age):\n",
        "    self.age=age\n",
        "\n",
        "  def printinfo(self):\n",
        "    print(\"名前:\",self.name)\n",
        "    print(\"年齢:\",self.age)\n",
        "\n",
        "#Humanクラスのインスタンス\n",
        "human=Human(\"鳴澤\",48)\n",
        "\n",
        "human.printinfo()\n",
        "\n",
        "\n"
      ]
    }
  ]
}