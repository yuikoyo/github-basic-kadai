{
  "nbformat": 4,
  "nbformat_minor": 0,
  "metadata": {
    "colab": {
      "provenance": []
    },
    "kernelspec": {
      "name": "python3",
      "display_name": "Python 3"
    },
    "language_info": {
      "name": "python"
    }
  },
  "cells": [
    {
      "cell_type": "markdown",
      "source": [
        "Samurai Pythonを学ぼう　課題005"
      ],
      "metadata": {
        "id": "IGrChi4FfYep"
      }
    },
    {
      "cell_type": "code",
      "execution_count": null,
      "metadata": {
        "colab": {
          "base_uri": "https://localhost:8080/"
        },
        "id": "pcxWv4ewfQzV",
        "outputId": "a580cc36-f5b8-48e4-a776-e426c05392f9"
      },
      "outputs": [
        {
          "output_type": "stream",
          "name": "stdout",
          "text": [
            "75.0c㎡\n"
          ]
        }
      ],
      "source": [
        "#上辺:10cm\n",
        "#下辺:20cm\n",
        "#高さ:5cm\n",
        "\n",
        "#公式:台形の面積=(上辺✖️下辺)✖️高さ÷2\n",
        "\n",
        "a=10\n",
        "b=20\n",
        "c=5\n",
        "\n",
        "menseki=(a+b)*c/2\n",
        "print(str(menseki)+\"c㎡\")\n"
      ]
    },
    {
      "cell_type": "markdown",
      "source": [
        "Samurai Pythonを学ぼう　課題007"
      ],
      "metadata": {
        "id": "Ju561TgD0d3D"
      }
    },
    {
      "cell_type": "code",
      "source": [
        "#list array\n",
        "#ディクショナリ　dictionary\n",
        "\n",
        "array=[\"月曜日は晴れです\",\"火曜日は雨です\",\"水曜日は晴れです\",\"木曜日は晴れです\",\"金曜日は曇りです\",\"土曜日は曇りのち雨です\",\"日曜日は雷雨です\"]\n",
        "dictionary={\"mon\":\"晴れ\",\"tue\":\"雨\",\"wed\":\"晴れ\",\"thu\":\"晴れ\",\"fri\":\"曇り\",\"sat\":\"曇りのち雨\",\"sun\":\"雷雨\"}\n",
        "\n",
        "print(array[2])\n",
        "print(dictionary[\"mon\"])"
      ],
      "metadata": {
        "colab": {
          "base_uri": "https://localhost:8080/"
        },
        "id": "CEEd6XNX0qg5",
        "outputId": "168ff671-3220-4c06-fffc-dc21a03b1931"
      },
      "execution_count": null,
      "outputs": [
        {
          "output_type": "stream",
          "name": "stdout",
          "text": [
            "水曜日は晴れです\n",
            "晴れ\n"
          ]
        }
      ]
    },
    {
      "cell_type": "markdown",
      "source": [],
      "metadata": {
        "id": "kuHXsop-fXjC"
      }
    },
    {
      "cell_type": "markdown",
      "source": [
        "Samurai Pyhonを学ぼう　課題008"
      ],
      "metadata": {
        "id": "6CtrIedxVUVj"
      }
    },
    {
      "cell_type": "code",
      "source": [
        "#変数varが、3の倍数の場合は「Fizz」を出力\n",
        "#変数varが、5の倍数の場合は「Buzz」を出力\n",
        "#変数varが、3の倍数と5の倍数の両方に該当する場合は「FizzBuzz」を出力\n",
        "#上記のどの場合にも該当しない場合は、変数varの値を出力\n",
        "\n",
        "var=3\n",
        "if var %3==0 and var %5==0:\n",
        "  print(\"FizzBuzz\")\n",
        "elif var %3==0:\n",
        "  print(\"Buzz\")\n",
        "elif var %5==0:\n",
        "  print(\"Buzz\")\n",
        "else:\n",
        "  print(var)\n"
      ],
      "metadata": {
        "id": "Axs1BcewVdFD",
        "colab": {
          "base_uri": "https://localhost:8080/"
        },
        "outputId": "a4b44386-055a-4335-aac6-505bc8c513e5"
      },
      "execution_count": 27,
      "outputs": [
        {
          "output_type": "stream",
          "name": "stdout",
          "text": [
            "Buzz\n"
          ]
        }
      ]
    },
    {
      "cell_type": "markdown",
      "source": [
        "Samurai Pyhonを学ぼう　課題011"
      ],
      "metadata": {
        "id": "loX4iTo_e0dL"
      }
    },
    {
      "cell_type": "code",
      "source": [
        "array=[\"水\",\"金\",\"地\",\"火\",\"木\",\"土\",\"天\",\"海\",\"冥\"]\n",
        "\n",
        "for i in array: #forでリストの中身を書き出す\n",
        "  print(i)\n",
        "\n",
        "l=0\n",
        "while l < len(array):#arrayの文字数上限に達成するまで繰り返す\n",
        "  print(array[l])\n",
        "  l+=1 #次の文字列\n",
        "\n",
        "\n"
      ],
      "metadata": {
        "colab": {
          "base_uri": "https://localhost:8080/"
        },
        "id": "QR3jPd8Ee9-K",
        "outputId": "7c1ddf7c-ff22-4d6a-cec4-2c6cf5f19d9f"
      },
      "execution_count": 1,
      "outputs": [
        {
          "output_type": "stream",
          "name": "stdout",
          "text": [
            "水\n",
            "金\n",
            "地\n",
            "火\n",
            "木\n",
            "土\n",
            "天\n",
            "海\n",
            "冥\n",
            "水\n",
            "金\n",
            "地\n",
            "火\n",
            "木\n",
            "土\n",
            "天\n",
            "海\n",
            "冥\n"
          ]
        }
      ]
    },
    {
      "cell_type": "markdown",
      "source": [
        "Samurai Pyhonを学ぼう　課題013"
      ],
      "metadata": {
        "id": "KZ_Cv2TkeZYU"
      }
    },
    {
      "cell_type": "code",
      "source": [
        "#商品を購入して、消費税を加えた計算結果を返す関数を記述してください。\n",
        "#第1引数に商品の金額、第2引数に消費税（10%）を設定できるようにしてください。\n",
        "\n",
        "def total_price(price,tax):\n",
        "  total=price*(100+tax)/100 #消費税込みの金額の計算\n",
        "  return f"{price}円(税込：{total:.0f}円)"#結果の出力\n",
        "\n",
        "total_price(150,10) #第一引数に商品金額、第二引数に消費税"
      ],
      "metadata": {
        "colab": {
          "base_uri": "https://localhost:8080/"
        },
        "id": "x9w2wMZseahH",
        "outputId": "7d9dfbc8-463d-4ec0-e036-4d7dc59d97ba"
      },
      "execution_count": 5,
      "outputs": [
        {
          "output_type": "stream",
          "name": "stdout",
          "text": [
            "165.0円\n"
          ]
        }
      ]
    }
  ]
}
