{
  "nbformat": 4,
  "nbformat_minor": 0,
  "metadata": {
    "colab": {
      "provenance": []
    },
    "kernelspec": {
      "name": "python3",
      "display_name": "Python 3"
    },
    "language_info": {
      "name": "python"
    }
  },
  "cells": [
    {
      "cell_type": "code",
      "execution_count": null,
      "metadata": {
        "colab": {
          "base_uri": "https://localhost:8080/",
          "height": 35
        },
        "id": "zuAj4JiN34VI",
        "outputId": "d73d4ee5-4986-4fde-9a9a-b60c86ffd04c"
      },
      "outputs": [
        {
          "output_type": "execute_result",
          "data": {
            "text/plain": [
              "'150円(税込：165円)'"
            ],
            "application/vnd.google.colaboratory.intrinsic+json": {
              "type": "string"
            }
          },
          "metadata": {},
          "execution_count": 1
        }
      ],
      "source": [
        "#商品を購入して、消費税を加えた計算結果を返す関数を記述してください。\n",
        "#第1引数に商品の金額、第2引数に消費税（10%）を設定できるようにしてください。\n",
        "\n",
        "def total_price(price,tax):\n",
        "  total=price*(100+tax)/100 #消費税込みの金額の計算\n",
        "  return f\"{price}円(税込：{total:.0f}円)\" #結果の出力\n",
        "\n",
        "total_price(150,10) #第一引数に商品金額、第二引数に消費税"
      ]
    }
  ]
}